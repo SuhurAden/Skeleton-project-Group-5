{
 "cells": [
  {
   "cell_type": "code",
   "execution_count": 2,
   "metadata": {},
   "outputs": [],
   "source": [
    "import requests\n",
    "\n",
    "url: str = \"https://onu1.s2.chalmers.se/datasets/amazon_prime_titles.json\"\n",
    "response = requests.get(url, timeout=30)\n",
    "\n",
    "## comment\n",
    "for i, item in enumerate(response.json()):\n",
    "    if item['title'] == None:\n",
    "        print(i, item['title'] == None)\n"
   ]
  }
 ],
 "metadata": {
  "kernelspec": {
   "display_name": "chalmers",
   "language": "python",
   "name": "python3"
  },
  "language_info": {
   "codemirror_mode": {
    "name": "ipython",
    "version": 3
   },
   "file_extension": ".py",
   "mimetype": "text/x-python",
   "name": "python",
   "nbconvert_exporter": "python",
   "pygments_lexer": "ipython3",
   "version": "3.12.2"
  }
 },
 "nbformat": 4,
 "nbformat_minor": 2
}
